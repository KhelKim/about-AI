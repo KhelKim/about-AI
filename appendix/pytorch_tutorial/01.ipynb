{
 "cells": [
  {
   "cell_type": "code",
   "execution_count": 1,
   "metadata": {},
   "outputs": [],
   "source": [
    "import torch"
   ]
  },
  {
   "cell_type": "code",
   "execution_count": 2,
   "metadata": {},
   "outputs": [
    {
     "name": "stdout",
     "output_type": "stream",
     "text": [
      "tensor([[1.0653e-38, 1.0194e-38, 8.4490e-39],\n",
      "        [9.6429e-39, 8.4490e-39, 9.6429e-39],\n",
      "        [9.2755e-39, 1.0286e-38, 9.0919e-39],\n",
      "        [8.9082e-39, 9.2755e-39, 8.4490e-39],\n",
      "        [1.0194e-38, 9.0919e-39, 8.4490e-39]])\n"
     ]
    }
   ],
   "source": [
    "# 초기화되지 않은 5x3 행렬 생성하기\n",
    "\n",
    "x = torch.empty(5, 3)\n",
    "print(x)"
   ]
  },
  {
   "cell_type": "code",
   "execution_count": 3,
   "metadata": {},
   "outputs": [
    {
     "name": "stdout",
     "output_type": "stream",
     "text": [
      "tensor([[0.4871, 0.0296, 0.8652],\n",
      "        [0.1766, 0.2242, 0.9541],\n",
      "        [0.1308, 0.7295, 0.4894],\n",
      "        [0.1296, 0.7274, 0.9093],\n",
      "        [0.4801, 0.3368, 0.0130]])\n"
     ]
    }
   ],
   "source": [
    "# 무작위로 초기화된 행렬 생성하기\n",
    "\n",
    "x = torch.rand(5, 3)\n",
    "print(x)"
   ]
  },
  {
   "cell_type": "code",
   "execution_count": 12,
   "metadata": {},
   "outputs": [
    {
     "name": "stdout",
     "output_type": "stream",
     "text": [
      "tensor([[0, 0, 0],\n",
      "        [0, 0, 0],\n",
      "        [0, 0, 0],\n",
      "        [0, 0, 0],\n",
      "        [0, 0, 0]])\n",
      "\n",
      "tensor([[[0, 0],\n",
      "         [0, 0],\n",
      "         [0, 0]],\n",
      "\n",
      "        [[0, 0],\n",
      "         [0, 0],\n",
      "         [0, 0]],\n",
      "\n",
      "        [[0, 0],\n",
      "         [0, 0],\n",
      "         [0, 0]],\n",
      "\n",
      "        [[0, 0],\n",
      "         [0, 0],\n",
      "         [0, 0]],\n",
      "\n",
      "        [[0, 0],\n",
      "         [0, 0],\n",
      "         [0, 0]]])\n",
      "\n"
     ]
    }
   ],
   "source": [
    "# dtype이 logn이고 0으로 채워진 행렬을 생성하기\n",
    "\n",
    "x1 = torch.zeros(5, 3, dtype=torch.long)\n",
    "print(x1)\n",
    "print()\n",
    "\n",
    "x2 = torch.zeros(5, 3, 2, dtype=torch.long)\n",
    "print(x2)\n",
    "print()"
   ]
  },
  {
   "cell_type": "code",
   "execution_count": 13,
   "metadata": {},
   "outputs": [
    {
     "name": "stdout",
     "output_type": "stream",
     "text": [
      "tensor([5.5000, 3.0000])\n"
     ]
    }
   ],
   "source": [
    "# 데이터로부터 tensor를 직접 생성하기\n",
    "\n",
    "x = torch.tensor([5.5, 3])\n",
    "print(x)"
   ]
  },
  {
   "cell_type": "code",
   "execution_count": 34,
   "metadata": {},
   "outputs": [
    {
     "name": "stdout",
     "output_type": "stream",
     "text": [
      "tensor([[1., 1., 1.],\n",
      "        [1., 1., 1.],\n",
      "        [1., 1., 1.],\n",
      "        [1., 1., 1.],\n",
      "        [1., 1., 1.]], dtype=torch.float64)\n",
      "first's dtype:  torch.float32\n",
      "x1's dtype:  torch.float64\n",
      "\n",
      "tensor([[-0.5836,  1.1725,  0.1872],\n",
      "        [ 0.6518, -1.5275,  0.6557],\n",
      "        [-0.8890, -1.0717,  0.8255],\n",
      "        [-1.1542,  0.0907, -0.6982],\n",
      "        [-0.1601, -0.2328,  0.1649]])\n",
      "\n"
     ]
    }
   ],
   "source": [
    "# 존재하는 tensor를 바탕으로 tensor 만들기\n",
    "# 이 메소드들은 사용자로부터 제공된 새로운 값이 없는한, 입력 tensor의 속성들(예. dtype)을 재사용한다.\n",
    "first = torch.rand(5, 3)\n",
    "\n",
    "x1 = first.new_ones(5, 3, dtype=torch.double)  # new_* 메소드는 크기를 받는다.\n",
    "print(x1)\n",
    "print(\"first's dtype: \", first.dtype)\n",
    "print(\"x1's dtype: \", x1.dtype)\n",
    "print()\n",
    "\n",
    "x2 = torch.randn_like(first, dtype=torch.float)  # dtype을 오버라이드(Override) 한다\n",
    "print(x2)  # 결과는 동일한 크기\n",
    "print()"
   ]
  },
  {
   "cell_type": "code",
   "execution_count": 36,
   "metadata": {},
   "outputs": [
    {
     "name": "stdout",
     "output_type": "stream",
     "text": [
      "torch.Size([5, 3])\n"
     ]
    }
   ],
   "source": [
    "# 행렬의 크기 구하기\n",
    "\n",
    "print(x2.size())"
   ]
  },
  {
   "cell_type": "code",
   "execution_count": null,
   "metadata": {},
   "outputs": [],
   "source": []
  }
 ],
 "metadata": {
  "kernelspec": {
   "display_name": "Python 3",
   "language": "python",
   "name": "python3"
  },
  "language_info": {
   "codemirror_mode": {
    "name": "ipython",
    "version": 3
   },
   "file_extension": ".py",
   "mimetype": "text/x-python",
   "name": "python",
   "nbconvert_exporter": "python",
   "pygments_lexer": "ipython3",
   "version": "3.6.4"
  }
 },
 "nbformat": 4,
 "nbformat_minor": 2
}
